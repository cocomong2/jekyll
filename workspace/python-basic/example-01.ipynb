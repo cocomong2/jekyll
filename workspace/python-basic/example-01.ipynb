{
 "cells": [
  {
   "cell_type": "code",
   "execution_count": 78,
   "metadata": {},
   "outputs": [
    {
     "name": "stdout",
     "output_type": "stream",
     "text": [
      "hello python !!!\n"
     ]
    }
   ],
   "source": [
    "print(\"hello python !!!\")"
   ]
  },
  {
   "cell_type": "code",
   "execution_count": 79,
   "metadata": {},
   "outputs": [
    {
     "name": "stdout",
     "output_type": "stream",
     "text": [
      "[10, 20, 30, 40, 50, 60, 70, 80, 90, 100]\n",
      "[10, 20, 30, 40, 50, 60, 70, 80, 90, 100]\n"
     ]
    }
   ],
   "source": [
    "# numbers 각 요소에 10을 곱한 값의 리스트 만들기\n",
    "numbers = [1, 2, 3, 4, 5, 6, 7, 8, 9, 10] \n",
    "\n",
    "numbers2 = []\n",
    "for n in numbers:\n",
    "    numbers2.append(n * 10)\n",
    "print(numbers2)\n",
    "\n",
    "numbers3 = [n * 10 for n in numbers]\n",
    "print(numbers3)"
   ]
  },
  {
   "cell_type": "code",
   "execution_count": 80,
   "metadata": {},
   "outputs": [
    {
     "name": "stdout",
     "output_type": "stream",
     "text": [
      "[10, 30, 50, 70, 90]\n",
      "[10, 30, 50, 70, 90]\n"
     ]
    }
   ],
   "source": [
    "# numbers 짝수 번째 요소에 10을 곱한 값의 리스트 만들기\n",
    "numbers = [1, 2, 3, 4, 5, 6, 7, 8, 9, 10] \n",
    "\n",
    "numbers2 = []\n",
    "for idx, n in enumerate(numbers):\n",
    "    if idx % 2 == 0:\n",
    "        numbers2.append(n * 10)\n",
    "    \n",
    "print(numbers2)\n",
    "\n",
    "numbers3 = [n * 10 for idx, n in enumerate(numbers) if idx % 2 == 0]\n",
    "print(numbers3)"
   ]
  },
  {
   "cell_type": "code",
   "execution_count": 81,
   "metadata": {},
   "outputs": [
    {
     "name": "stdout",
     "output_type": "stream",
     "text": [
      "[34, 12, 41, 7, 18, 11]\n"
     ]
    }
   ],
   "source": [
    "# 로또 번호 추출기\n",
    "# 규칙 1. 1 ~ 45 사이, 난수, 중복 X, 6개 뽑기\n",
    "# 규칙 2. 뽑은 숫자의 평균은 20~26 사이 (범위를 벗어나면 1부터 다시)\n",
    "import random\n",
    "\n",
    "numbers = []\n",
    "for idx in range(6):\n",
    "    number = random.randint(1, 45) # 1부터 45까지 \n",
    "    numbers.append(number)\n",
    "print(numbers)      # 여기까지는 중복을 막을 수가 없음 \n",
    "\n"
   ]
  },
  {
   "cell_type": "code",
   "execution_count": 82,
   "metadata": {},
   "outputs": [
    {
     "name": "stdout",
     "output_type": "stream",
     "text": [
      "0 1 2 3 4 5 "
     ]
    }
   ],
   "source": [
    "import random \n",
    "random.randint(1, 46) # 난수 뽑기\n",
    "\n",
    "for i in range(6):\n",
    "    print(i, end= ' ')"
   ]
  },
  {
   "cell_type": "code",
   "execution_count": 83,
   "metadata": {},
   "outputs": [
    {
     "name": "stdout",
     "output_type": "stream",
     "text": [
      "[5, 10, 12, 35, 36, 42] 23.333333333333332\n"
     ]
    }
   ],
   "source": [
    "import random\n",
    "numbers = [] # 뽑은 번호를 저장할 리스트 변수\n",
    "while True:\n",
    "    while True:\n",
    "        number = random.randint(1, 45) # 1 45\n",
    "        if number not in numbers:\n",
    "            numbers.append(number)\n",
    "        \n",
    "        if len(numbers) == 6:\n",
    "            break\n",
    "\n",
    "    mean = sum(numbers) / len(numbers)\n",
    "    if mean >= 20 and mean <= 26:\n",
    "        break\n",
    "   \n",
    "    numbers = [] # 다시 뽑기 위해 초기화 \n",
    "numbers.sort()\n",
    "print(numbers, mean)"
   ]
  },
  {
   "cell_type": "code",
   "execution_count": null,
   "metadata": {},
   "outputs": [],
   "source": []
  }
 ],
 "metadata": {
  "kernelspec": {
   "display_name": "human-da-env",
   "language": "python",
   "name": "python3"
  },
  "language_info": {
   "codemirror_mode": {
    "name": "ipython",
    "version": 3
   },
   "file_extension": ".py",
   "mimetype": "text/x-python",
   "name": "python",
   "nbconvert_exporter": "python",
   "pygments_lexer": "ipython3",
   "version": "3.12.7"
  }
 },
 "nbformat": 4,
 "nbformat_minor": 2
}
