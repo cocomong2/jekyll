{
 "cells": [
  {
   "cell_type": "code",
   "execution_count": 1,
   "metadata": {},
   "outputs": [
    {
     "ename": "SyntaxError",
     "evalue": "invalid syntax (2510676087.py, line 1)",
     "output_type": "error",
     "traceback": [
      "\u001b[1;36m  Cell \u001b[1;32mIn[1], line 1\u001b[1;36m\u001b[0m\n\u001b[1;33m    curl -v -G GET \"https://dapi.kakao.com/v2/search/image\" \\\u001b[0m\n\u001b[1;37m               ^\u001b[0m\n\u001b[1;31mSyntaxError\u001b[0m\u001b[1;31m:\u001b[0m invalid syntax\n"
     ]
    }
   ],
   "source": [
    "url = \"https://dapi.kakao.com/v2/search/image\" \\\n",
    "request = data-urlencode \"query=설현\" \\\n",
    "-H \"Authorization: KakaoAK ${REST_API_KEY}\""
   ]
  },
  {
   "cell_type": "code",
   "execution_count": null,
   "metadata": {},
   "outputs": [],
   "source": [
    "\n",
    "Content-Type: application/json;charset=UTF-8\n",
    "{\n",
    "  \"meta\": {\n",
    "    \"total_count\": 422583,\n",
    "    \"pageable_count\": 3854,\n",
    "    \"is_end\": false\n",
    "  },\n",
    "  \"documents\": [\n",
    "    {\n",
    "      \"collection\": \"news\",\n",
    "      \"thumbnail_url\": \"https://search2.kakaocdn.net/argon/130x130_85_c/36hQpoTrVZp\",\n",
    "      \"image_url\": \"http://t1.daumcdn.net/news/201706/21/kedtv/20170621155930292vyyx.jpg\",\n",
    "      \"width\": 540,\n",
    "      \"height\": 457,\n",
    "      \"display_sitename\": \"한국경제TV\",\n",
    "      \"doc_url\": \"http://v.media.daum.net/v/20170621155930002\",\n",
    "      \"datetime\": \"2017-06-21T15:59:30.000+09:00\"\n",
    "    },\n",
    "    ...\n",
    "  ]\n",
    "}"
   ]
  }
 ],
 "metadata": {
  "kernelspec": {
   "display_name": "human-da-env",
   "language": "python",
   "name": "python3"
  },
  "language_info": {
   "codemirror_mode": {
    "name": "ipython",
    "version": 3
   },
   "file_extension": ".py",
   "mimetype": "text/x-python",
   "name": "python",
   "nbconvert_exporter": "python",
   "pygments_lexer": "ipython3",
   "version": "3.12.7"
  }
 },
 "nbformat": 4,
 "nbformat_minor": 2
}
